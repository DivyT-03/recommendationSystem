{
 "cells": [
  {
   "cell_type": "markdown",
   "metadata": {
    "colab_type": "text",
    "id": "u_0oQaUOA9CI"
   },
   "source": [
    "# Task 1: Introduction\n",
    "\n",
    "![Movies Collage](https://i.imgur.com/T7V0VZ6.png)\n",
    "\n",
    "For this project we are going to create a recommendation engine for movies for users based on there past behaviour.\n",
    "\n",
    "---\n",
    "\n",
    "We will focus on the **collaborative filtering** approach, that is: \n",
    "\n",
    "The user is recommended items that people with similar tastes and preferences liked in the past. In another word, this method predicts unknown ratings by using the similarities between users.\n",
    "\n",
    "---\n",
    "\n",
    "Note: This notebook uses `python 3` and these packages: `pandas`, `numpy`, `matplotlib` and `scikit-surprise`\n",
    "\n",
    "We can install them using:\n",
    "```Shell\n",
    "pip3 install pandas matplotlib numpy scikit-surprise\n",
    "```"
   ]
  },
  {
   "cell_type": "markdown",
   "metadata": {
    "colab_type": "text",
    "id": "eMZcgcQsm-9y"
   },
   "source": [
    "## 1.1: Installing Libraries"
   ]
  },
  {
   "cell_type": "code",
   "execution_count": 18,
   "metadata": {
    "colab": {},
    "colab_type": "code",
    "id": "HNmYMKhCnITm"
   },
   "outputs": [
    {
     "name": "stdout",
     "output_type": "stream",
     "text": [
      ">> Installing Libraries\n",
      "Defaulting to user installation because normal site-packages is not writeable\n",
      "Requirement already satisfied: pandas in /home/rhyme/.local/lib/python3.6/site-packages (1.1.0)\n",
      "Requirement already satisfied: matplotlib in /home/rhyme/.local/lib/python3.6/site-packages (3.3.0)\n",
      "Requirement already satisfied: numpy in /home/rhyme/.local/lib/python3.6/site-packages (1.19.1)\n",
      "Requirement already satisfied: scikit-surprise in /home/rhyme/.local/lib/python3.6/site-packages (1.1.1)\n",
      "Requirement already satisfied: python-dateutil>=2.7.3 in /home/rhyme/.local/lib/python3.6/site-packages (from pandas) (2.8.1)\n",
      "Requirement already satisfied: pytz>=2017.2 in /home/rhyme/.local/lib/python3.6/site-packages (from pandas) (2020.1)\n",
      "Requirement already satisfied: kiwisolver>=1.0.1 in /home/rhyme/.local/lib/python3.6/site-packages (from matplotlib) (1.2.0)\n",
      "Requirement already satisfied: pillow>=6.2.0 in /home/rhyme/.local/lib/python3.6/site-packages (from matplotlib) (7.2.0)\n",
      "Requirement already satisfied: cycler>=0.10 in /home/rhyme/.local/lib/python3.6/site-packages (from matplotlib) (0.10.0)\n",
      "Requirement already satisfied: pyparsing!=2.0.4,!=2.1.2,!=2.1.6,>=2.0.3 in /home/rhyme/.local/lib/python3.6/site-packages (from matplotlib) (2.4.7)\n",
      "Requirement already satisfied: joblib>=0.11 in /home/rhyme/.local/lib/python3.6/site-packages (from scikit-surprise) (0.16.0)\n",
      "Requirement already satisfied: six>=1.10.0 in /usr/lib/python3/dist-packages (from scikit-surprise) (1.11.0)\n",
      "Requirement already satisfied: scipy>=1.0.0 in /home/rhyme/.local/lib/python3.6/site-packages (from scikit-surprise) (1.5.2)\n",
      "\u001b[33mWARNING: You are using pip version 20.2.1; however, version 20.2.4 is available.\n",
      "You should consider upgrading via the '/usr/bin/python3 -m pip install --upgrade pip' command.\u001b[0m\n",
      ">> Libraries Installed\n"
     ]
    }
   ],
   "source": [
    "print('>> Installing Libraries')\n",
    "\n",
    "!pip3 install pandas matplotlib numpy scikit-surprise\n",
    "\n",
    "print('>> Libraries Installed')"
   ]
  },
  {
   "cell_type": "markdown",
   "metadata": {
    "colab_type": "text",
    "id": "FYwbN6KqJjPo"
   },
   "source": [
    "## 1.2: Importing Libraries\n",
    "\n",
    "First of all, we will need to import some libraries. This includes surprise which we will use to create the recommendation system."
   ]
  },
  {
   "cell_type": "code",
   "execution_count": 19,
   "metadata": {
    "colab": {},
    "colab_type": "code",
    "id": "5OGYBAjxAzLC"
   },
   "outputs": [
    {
     "name": "stdout",
     "output_type": "stream",
     "text": [
      ">> Importing Libraries\n",
      ">> Libraries imported.\n"
     ]
    }
   ],
   "source": [
    "print('>> Importing Libraries')\n",
    "\n",
    "import pandas as pd\n",
    "\n",
    "from surprise import Reader, Dataset, SVD\n",
    "\n",
    "from surprise.accuracy import rmse, mae\n",
    "from surprise.model_selection import cross_validate\n",
    "\n",
    "print('>> Libraries imported.')"
   ]
  },
  {
   "cell_type": "markdown",
   "metadata": {
    "colab_type": "text",
    "id": "Zg9d8GR6A_rr"
   },
   "source": [
    "# Task 2: Importing Data\n",
    "\n",
    "We will use open-source dataset from GroupLens Research ([movielens.org](http://movielens.org))"
   ]
  },
  {
   "cell_type": "markdown",
   "metadata": {
    "colab_type": "text",
    "id": "vS0k5tdWKSfZ"
   },
   "source": [
    "## 2.1: Importing the Data\n",
    "\n",
    "The dataset is saved in a `ratings.csv` file. We will use pandas to take a look at some of the rows."
   ]
  },
  {
   "cell_type": "code",
   "execution_count": 20,
   "metadata": {
    "colab": {},
    "colab_type": "code",
    "id": "3lbOmdPwKsPm"
   },
   "outputs": [
    {
     "data": {
      "text/html": [
       "<div>\n",
       "<style scoped>\n",
       "    .dataframe tbody tr th:only-of-type {\n",
       "        vertical-align: middle;\n",
       "    }\n",
       "\n",
       "    .dataframe tbody tr th {\n",
       "        vertical-align: top;\n",
       "    }\n",
       "\n",
       "    .dataframe thead th {\n",
       "        text-align: right;\n",
       "    }\n",
       "</style>\n",
       "<table border=\"1\" class=\"dataframe\">\n",
       "  <thead>\n",
       "    <tr style=\"text-align: right;\">\n",
       "      <th></th>\n",
       "      <th>userId</th>\n",
       "      <th>movieId</th>\n",
       "      <th>rating</th>\n",
       "      <th>timestamp</th>\n",
       "    </tr>\n",
       "  </thead>\n",
       "  <tbody>\n",
       "    <tr>\n",
       "      <th>0</th>\n",
       "      <td>1</td>\n",
       "      <td>1</td>\n",
       "      <td>4.0</td>\n",
       "      <td>964982703</td>\n",
       "    </tr>\n",
       "    <tr>\n",
       "      <th>1</th>\n",
       "      <td>1</td>\n",
       "      <td>3</td>\n",
       "      <td>4.0</td>\n",
       "      <td>964981247</td>\n",
       "    </tr>\n",
       "    <tr>\n",
       "      <th>2</th>\n",
       "      <td>1</td>\n",
       "      <td>6</td>\n",
       "      <td>4.0</td>\n",
       "      <td>964982224</td>\n",
       "    </tr>\n",
       "    <tr>\n",
       "      <th>3</th>\n",
       "      <td>1</td>\n",
       "      <td>47</td>\n",
       "      <td>5.0</td>\n",
       "      <td>964983815</td>\n",
       "    </tr>\n",
       "    <tr>\n",
       "      <th>4</th>\n",
       "      <td>1</td>\n",
       "      <td>50</td>\n",
       "      <td>5.0</td>\n",
       "      <td>964982931</td>\n",
       "    </tr>\n",
       "  </tbody>\n",
       "</table>\n",
       "</div>"
      ],
      "text/plain": [
       "   userId  movieId  rating  timestamp\n",
       "0       1        1     4.0  964982703\n",
       "1       1        3     4.0  964981247\n",
       "2       1        6     4.0  964982224\n",
       "3       1       47     5.0  964983815\n",
       "4       1       50     5.0  964982931"
      ]
     },
     "execution_count": 20,
     "metadata": {},
     "output_type": "execute_result"
    }
   ],
   "source": [
    "df=pd.read_csv(\"ratings.csv\")\n",
    "df.head()"
   ]
  },
  {
   "cell_type": "markdown",
   "metadata": {
    "colab_type": "text",
    "id": "GvUhDQIgLOEY"
   },
   "source": [
    "## 2.2 Dropping timestamp\n",
    "\n",
    "We won't be using the timestamp when user gave the particular rating. So we will drop that column."
   ]
  },
  {
   "cell_type": "code",
   "execution_count": 21,
   "metadata": {
    "colab": {},
    "colab_type": "code",
    "id": "TXvWh3duLjiP"
   },
   "outputs": [
    {
     "data": {
      "text/html": [
       "<div>\n",
       "<style scoped>\n",
       "    .dataframe tbody tr th:only-of-type {\n",
       "        vertical-align: middle;\n",
       "    }\n",
       "\n",
       "    .dataframe tbody tr th {\n",
       "        vertical-align: top;\n",
       "    }\n",
       "\n",
       "    .dataframe thead th {\n",
       "        text-align: right;\n",
       "    }\n",
       "</style>\n",
       "<table border=\"1\" class=\"dataframe\">\n",
       "  <thead>\n",
       "    <tr style=\"text-align: right;\">\n",
       "      <th></th>\n",
       "      <th>userId</th>\n",
       "      <th>movieId</th>\n",
       "      <th>rating</th>\n",
       "      <th>timestamp</th>\n",
       "    </tr>\n",
       "  </thead>\n",
       "  <tbody>\n",
       "    <tr>\n",
       "      <th>0</th>\n",
       "      <td>1</td>\n",
       "      <td>1</td>\n",
       "      <td>4.0</td>\n",
       "      <td>964982703</td>\n",
       "    </tr>\n",
       "    <tr>\n",
       "      <th>1</th>\n",
       "      <td>1</td>\n",
       "      <td>3</td>\n",
       "      <td>4.0</td>\n",
       "      <td>964981247</td>\n",
       "    </tr>\n",
       "    <tr>\n",
       "      <th>2</th>\n",
       "      <td>1</td>\n",
       "      <td>6</td>\n",
       "      <td>4.0</td>\n",
       "      <td>964982224</td>\n",
       "    </tr>\n",
       "    <tr>\n",
       "      <th>3</th>\n",
       "      <td>1</td>\n",
       "      <td>47</td>\n",
       "      <td>5.0</td>\n",
       "      <td>964983815</td>\n",
       "    </tr>\n",
       "    <tr>\n",
       "      <th>4</th>\n",
       "      <td>1</td>\n",
       "      <td>50</td>\n",
       "      <td>5.0</td>\n",
       "      <td>964982931</td>\n",
       "    </tr>\n",
       "  </tbody>\n",
       "</table>\n",
       "</div>"
      ],
      "text/plain": [
       "   userId  movieId  rating  timestamp\n",
       "0       1        1     4.0  964982703\n",
       "1       1        3     4.0  964981247\n",
       "2       1        6     4.0  964982224\n",
       "3       1       47     5.0  964983815\n",
       "4       1       50     5.0  964982931"
      ]
     },
     "execution_count": 21,
     "metadata": {},
     "output_type": "execute_result"
    }
   ],
   "source": [
    "#df.drop('timestamp',axis=1,inplace=True)\n",
    "df.head()"
   ]
  },
  {
   "cell_type": "markdown",
   "metadata": {
    "colab_type": "text",
    "id": "OPEBn0gAK-5m"
   },
   "source": [
    "## 2.3 Check for Missing Data\n",
    "\n",
    "It's a good practice to check if the data has any missing values. In real world data, this is quite common and must be taken care of before any data pre-processing or model training."
   ]
  },
  {
   "cell_type": "code",
   "execution_count": 22,
   "metadata": {
    "colab": {},
    "colab_type": "code",
    "id": "BfBqk7KkLFV6"
   },
   "outputs": [
    {
     "data": {
      "text/plain": [
       "userId       0\n",
       "movieId      0\n",
       "rating       0\n",
       "timestamp    0\n",
       "dtype: int64"
      ]
     },
     "execution_count": 22,
     "metadata": {},
     "output_type": "execute_result"
    }
   ],
   "source": [
    "df.isna().sum()"
   ]
  },
  {
   "cell_type": "markdown",
   "metadata": {
    "colab_type": "text",
    "id": "FQYVA-J5MCUG"
   },
   "source": [
    "# Task 3: EDA (Exploratory data analysis)\n",
    "\n",
    "In statistics, exploratory data analysis is an approach to analyzing data sets to summarize their main characteristics."
   ]
  },
  {
   "cell_type": "markdown",
   "metadata": {
    "colab_type": "text",
    "id": "XJ0CD6ZiOpRI"
   },
   "source": [
    "## 3.1 Number of movies/users"
   ]
  },
  {
   "cell_type": "code",
   "execution_count": 23,
   "metadata": {
    "colab": {},
    "colab_type": "code",
    "id": "vnEIeAO6Psj2"
   },
   "outputs": [],
   "source": [
    "n_movies=df['movieId'].nunique()\n",
    "n_users=df[\"userId\"].nunique()"
   ]
  },
  {
   "cell_type": "markdown",
   "metadata": {
    "colab_type": "text",
    "id": "dclqP0iXOo_F"
   },
   "source": [
    "## 3.2 Sparsity of our data\n",
    "\n",
    "Sparsity (%) = `(No of missing values/ (Total Values))X100`"
   ]
  },
  {
   "cell_type": "code",
   "execution_count": 24,
   "metadata": {
    "colab": {},
    "colab_type": "code",
    "id": "xPYF0zlfREMK"
   },
   "outputs": [
    {
     "data": {
      "text/plain": [
       "98.30003169443864"
      ]
     },
     "execution_count": 24,
     "metadata": {},
     "output_type": "execute_result"
    }
   ],
   "source": [
    "avaliable_ratings=df[\"rating\"].count()\n",
    "total_ratings=n_movies*n_users\n",
    "missing_ratings=total_ratings-avaliable_ratings\n",
    "sparsity=missing_ratings/total_ratings*100\n",
    "sparsity"
   ]
  },
  {
   "cell_type": "markdown",
   "metadata": {
    "colab_type": "text",
    "id": "kcYDLtG5Ok_p"
   },
   "source": [
    "## 3.3 Ratings Distribution"
   ]
  },
  {
   "cell_type": "code",
   "execution_count": 25,
   "metadata": {
    "colab": {},
    "colab_type": "code",
    "id": "ZO7Mv-jdL4_z"
   },
   "outputs": [
    {
     "data": {
      "text/plain": [
       "<AxesSubplot:>"
      ]
     },
     "execution_count": 25,
     "metadata": {},
     "output_type": "execute_result"
    },
    {
     "data": {
      "image/png": "[encoded data removed]",
      "text/plain": [
       "<Figure size 432x288 with 1 Axes>"
      ]
     },
     "metadata": {
      "needs_background": "light"
     },
     "output_type": "display_data"
    }
   ],
   "source": [
    "df['rating'].value_counts().plot(kind=\"bar\")"
   ]
  },
  {
   "cell_type": "markdown",
   "metadata": {
    "colab_type": "text",
    "id": "xdLsIItxSd9K"
   },
   "source": [
    "# Task 4: Dimensionality Reduction\n",
    "\n",
    "To reduce the dimensionality of the dataset, we will filter out rarely rated movies and rarely rating users"
   ]
  },
  {
   "cell_type": "markdown",
   "metadata": {
    "colab_type": "text",
    "id": "i3jYt3m5TNVL"
   },
   "source": [
    "## 4.1 Filter movies with less than 3 ratings"
   ]
  },
  {
   "cell_type": "code",
   "execution_count": 26,
   "metadata": {
    "colab": {},
    "colab_type": "code",
    "id": "msZU9YSxSeUo"
   },
   "outputs": [],
   "source": [
    "filter_movies=df['movieId'].value_counts()>3\n",
    "filter_movies=filter_movies[filter_movies].index.tolist()"
   ]
  },
  {
   "cell_type": "markdown",
   "metadata": {
    "colab_type": "text",
    "id": "IYaMxlXcTdGS"
   },
   "source": [
    "## 4.2 Filter users with less than 3 movies rated"
   ]
  },
  {
   "cell_type": "code",
   "execution_count": 27,
   "metadata": {
    "colab": {},
    "colab_type": "code",
    "id": "WPeNAggIS-Y_"
   },
   "outputs": [],
   "source": [
    "filter_users=df['userId'].value_counts()>3\n",
    "filter_users=filter_users[filter_users].index.tolist()"
   ]
  },
  {
   "cell_type": "markdown",
   "metadata": {
    "colab_type": "text",
    "id": "c2LFIAGXT3ro"
   },
   "source": [
    "## 4.3 Remove rarely rated movies and rarely rating users"
   ]
  },
  {
   "cell_type": "code",
   "execution_count": 28,
   "metadata": {
    "colab": {},
    "colab_type": "code",
    "id": "tTUG4ao6S_x7"
   },
   "outputs": [
    {
     "data": {
      "text/plain": [
       "(92394, 4)"
      ]
     },
     "execution_count": 28,
     "metadata": {},
     "output_type": "execute_result"
    }
   ],
   "source": [
    "df=df[(df['movieId'].isin(filter_movies)) & (df['userId'].isin(filter_users))]\n",
    "df.shape"
   ]
  },
  {
   "cell_type": "markdown",
   "metadata": {
    "colab_type": "text",
    "id": "TbviZWiPM3jQ"
   },
   "source": [
    "# Task 5: Create Training and Test Sets"
   ]
  },
  {
   "cell_type": "markdown",
   "metadata": {
    "colab_type": "text",
    "id": "TIK2L0VuhbgA"
   },
   "source": [
    "## 5.1 Columns used for training"
   ]
  },
  {
   "cell_type": "code",
   "execution_count": 31,
   "metadata": {
    "colab": {},
    "colab_type": "code",
    "id": "bXF4dmJKhF7q"
   },
   "outputs": [],
   "source": [
    "cols=['userId','movieId','rating']"
   ]
  },
  {
   "cell_type": "markdown",
   "metadata": {
    "colab_type": "text",
    "id": "J8rylnJmUjYk"
   },
   "source": [
    "## 5.2 Create surprise dataset"
   ]
  },
  {
   "cell_type": "code",
   "execution_count": 32,
   "metadata": {
    "colab": {},
    "colab_type": "code",
    "id": "4UOTMUssM6Tw"
   },
   "outputs": [],
   "source": [
    "reader=Reader(rating_scale=(0.5, 5))\n",
    "data = Dataset.load_from_df(df[cols],reader)"
   ]
  },
  {
   "cell_type": "markdown",
   "metadata": {
    "colab_type": "text",
    "id": "8lM--CdvguDz"
   },
   "source": [
    "## 5.3 Create Train-set and Prediction-set"
   ]
  },
  {
   "cell_type": "code",
   "execution_count": 34,
   "metadata": {
    "colab": {},
    "colab_type": "code",
    "id": "heITVvtvU1FD"
   },
   "outputs": [],
   "source": [
    "trainset = data.build_full_trainset()\n",
    "antiset=trainset.build_anti_testset()"
   ]
  },
  {
   "cell_type": "markdown",
   "metadata": {
    "colab_type": "text",
    "id": "AYfhHDReuO5h"
   },
   "source": [
    "# Task 6: Creating and training the model"
   ]
  },
  {
   "cell_type": "markdown",
   "metadata": {
    "colab_type": "text",
    "id": "R4e28tFHubv9"
   },
   "source": [
    "## 6.1 Creating the model\n",
    "\n",
    "**SVD (Singular Value Decomposition)**\n",
    "\n",
    "Interaction Matrix = A X B X C"
   ]
  },
  {
   "cell_type": "code",
   "execution_count": 36,
   "metadata": {
    "colab": {},
    "colab_type": "code",
    "id": "Ft4rS3L-hqeS"
   },
   "outputs": [],
   "source": [
    "algo=SVD(n_epochs=25,verbose=True)"
   ]
  },
  {
   "cell_type": "markdown",
   "metadata": {
    "colab_type": "text",
    "id": "h_16sRpXwahF"
   },
   "source": [
    "## 6.2 Training the model\n",
    "\n",
    "**Mean Absolute Error (MAE)**: MAE measures the average magnitude of the errors in a set of predictions, without considering their direction. \n",
    "\n",
    "**Root mean squared error (RMSE)**:  RMSE is the square root of the average of squared differences between prediction and actual observation."
   ]
  },
  {
   "cell_type": "code",
   "execution_count": 37,
   "metadata": {
    "colab": {},
    "colab_type": "code",
    "id": "nh-E5DS5wYe_"
   },
   "outputs": [
    {
     "name": "stdout",
     "output_type": "stream",
     "text": [
      "Processing epoch 0\n",
      "Processing epoch 1\n",
      "Processing epoch 2\n",
      "Processing epoch 3\n",
      "Processing epoch 4\n",
      "Processing epoch 5\n",
      "Processing epoch 6\n",
      "Processing epoch 7\n",
      "Processing epoch 8\n",
      "Processing epoch 9\n",
      "Processing epoch 10\n",
      "Processing epoch 11\n",
      "Processing epoch 12\n",
      "Processing epoch 13\n",
      "Processing epoch 14\n",
      "Processing epoch 15\n",
      "Processing epoch 16\n",
      "Processing epoch 17\n",
      "Processing epoch 18\n",
      "Processing epoch 19\n",
      "Processing epoch 20\n",
      "Processing epoch 21\n",
      "Processing epoch 22\n",
      "Processing epoch 23\n",
      "Processing epoch 24\n",
      "Processing epoch 0\n",
      "Processing epoch 1\n",
      "Processing epoch 2\n",
      "Processing epoch 3\n",
      "Processing epoch 4\n",
      "Processing epoch 5\n",
      "Processing epoch 6\n",
      "Processing epoch 7\n",
      "Processing epoch 8\n",
      "Processing epoch 9\n",
      "Processing epoch 10\n",
      "Processing epoch 11\n",
      "Processing epoch 12\n",
      "Processing epoch 13\n",
      "Processing epoch 14\n",
      "Processing epoch 15\n",
      "Processing epoch 16\n",
      "Processing epoch 17\n",
      "Processing epoch 18\n",
      "Processing epoch 19\n",
      "Processing epoch 20\n",
      "Processing epoch 21\n",
      "Processing epoch 22\n",
      "Processing epoch 23\n",
      "Processing epoch 24\n",
      "Processing epoch 0\n",
      "Processing epoch 1\n",
      "Processing epoch 2\n",
      "Processing epoch 3\n",
      "Processing epoch 4\n",
      "Processing epoch 5\n",
      "Processing epoch 6\n",
      "Processing epoch 7\n",
      "Processing epoch 8\n",
      "Processing epoch 9\n",
      "Processing epoch 10\n",
      "Processing epoch 11\n",
      "Processing epoch 12\n",
      "Processing epoch 13\n",
      "Processing epoch 14\n",
      "Processing epoch 15\n",
      "Processing epoch 16\n",
      "Processing epoch 17\n",
      "Processing epoch 18\n",
      "Processing epoch 19\n",
      "Processing epoch 20\n",
      "Processing epoch 21\n",
      "Processing epoch 22\n",
      "Processing epoch 23\n",
      "Processing epoch 24\n",
      "Processing epoch 0\n",
      "Processing epoch 1\n",
      "Processing epoch 2\n",
      "Processing epoch 3\n",
      "Processing epoch 4\n",
      "Processing epoch 5\n",
      "Processing epoch 6\n",
      "Processing epoch 7\n",
      "Processing epoch 8\n",
      "Processing epoch 9\n",
      "Processing epoch 10\n",
      "Processing epoch 11\n",
      "Processing epoch 12\n",
      "Processing epoch 13\n",
      "Processing epoch 14\n",
      "Processing epoch 15\n",
      "Processing epoch 16\n",
      "Processing epoch 17\n",
      "Processing epoch 18\n",
      "Processing epoch 19\n",
      "Processing epoch 20\n",
      "Processing epoch 21\n",
      "Processing epoch 22\n",
      "Processing epoch 23\n",
      "Processing epoch 24\n",
      "Processing epoch 0\n",
      "Processing epoch 1\n",
      "Processing epoch 2\n",
      "Processing epoch 3\n",
      "Processing epoch 4\n",
      "Processing epoch 5\n",
      "Processing epoch 6\n",
      "Processing epoch 7\n",
      "Processing epoch 8\n",
      "Processing epoch 9\n",
      "Processing epoch 10\n",
      "Processing epoch 11\n",
      "Processing epoch 12\n",
      "Processing epoch 13\n",
      "Processing epoch 14\n",
      "Processing epoch 15\n",
      "Processing epoch 16\n",
      "Processing epoch 17\n",
      "Processing epoch 18\n",
      "Processing epoch 19\n",
      "Processing epoch 20\n",
      "Processing epoch 21\n",
      "Processing epoch 22\n",
      "Processing epoch 23\n",
      "Processing epoch 24\n",
      "Evaluating RMSE, MAE of algorithm SVD on 5 split(s).\n",
      "\n",
      "                  Fold 1  Fold 2  Fold 3  Fold 4  Fold 5  Mean    Std     \n",
      "RMSE (testset)    0.8612  0.8616  0.8541  0.8684  0.8677  0.8626  0.0052  \n",
      "MAE (testset)     0.6612  0.6606  0.6546  0.6637  0.6648  0.6610  0.0035  \n",
      "Fit time          5.44    5.35    5.31    5.40    5.45    5.39    0.05    \n",
      "Test time         0.35    0.16    0.13    0.27    0.14    0.21    0.09    \n"
     ]
    },
    {
     "data": {
      "text/plain": [
       "{'test_rmse': array([0.86122627, 0.86156066, 0.85405553, 0.86837179, 0.86770776]),\n",
       " 'test_mae': array([0.66119955, 0.66064323, 0.65459832, 0.66372548, 0.66478624]),\n",
       " 'fit_time': (5.443164587020874,\n",
       "  5.35097336769104,\n",
       "  5.314588785171509,\n",
       "  5.39638090133667,\n",
       "  5.45441198348999),\n",
       " 'test_time': (0.3504514694213867,\n",
       "  0.15839505195617676,\n",
       "  0.12923216819763184,\n",
       "  0.2740328311920166,\n",
       "  0.144927978515625)}"
      ]
     },
     "execution_count": 37,
     "metadata": {},
     "output_type": "execute_result"
    }
   ],
   "source": [
    "cross_validate(algo, data, measures = ['RMSE','MAE'], cv=5, verbose=True)"
   ]
  },
  {
   "cell_type": "markdown",
   "metadata": {
    "colab_type": "text",
    "id": "zTnqbNt_xkKS"
   },
   "source": [
    "# Task 7: Predictions"
   ]
  },
  {
   "cell_type": "markdown",
   "metadata": {
    "colab_type": "text",
    "id": "ma3oQr1Ax_Hg"
   },
   "source": [
    "## 7.1 Predict ratings for all pairs (user, items) that are NOT in the training set."
   ]
  },
  {
   "cell_type": "code",
   "execution_count": 38,
   "metadata": {
    "colab": {},
    "colab_type": "code",
    "id": "_K3EmIs3wxhW"
   },
   "outputs": [],
   "source": [
    "predictions = algo.test(antiset)"
   ]
  },
  {
   "cell_type": "code",
   "execution_count": 39,
   "metadata": {
    "colab": {},
    "colab_type": "code",
    "id": "RkqiEwM9z4Jf"
   },
   "outputs": [
    {
     "data": {
      "text/plain": [
       "Prediction(uid=1, iid=318, r_ui=3.529119856267723, est=4.901569086325778, details={'was_impossible': False})"
      ]
     },
     "execution_count": 39,
     "metadata": {},
     "output_type": "execute_result"
    }
   ],
   "source": [
    "predictions[0]"
   ]
  },
  {
   "cell_type": "markdown",
   "metadata": {
    "colab_type": "text",
    "id": "lRmzGn63ze8b"
   },
   "source": [
    "## 7.2 Recommending top 3 movies movies based on predictions"
   ]
  },
  {
   "cell_type": "code",
   "execution_count": 44,
   "metadata": {
    "colab": {},
    "colab_type": "code",
    "id": "q3Ugauv0119g"
   },
   "outputs": [
    {
     "name": "stdout",
     "output_type": "stream",
     "text": [
      "1 [898, 899, 1203]\n",
      "2 [5618, 898, 912]\n",
      "3 [898, 1203, 1267]\n",
      "4 [1210, 1204, 1411]\n",
      "5 [898, 1104, 904]\n",
      "6 [908, 92535, 3147]\n",
      "7 [1250, 1276, 908]\n",
      "8 [858, 1276, 56782]\n",
      "9 [1204, 1387, 527]\n",
      "10 [457, 1291, 260]\n",
      "11 [260, 2565, 2019]\n",
      "12 [47, 50, 110]\n",
      "13 [750, 1204, 1197]\n",
      "14 [898, 50, 5618]\n",
      "15 [720, 92259, 2324]\n",
      "16 [57669, 1235, 1248]\n",
      "17 [1278, 3275, 1673]\n",
      "18 [5618, 1197, 898]\n",
      "19 [58559, 858, 3681]\n",
      "20 [2571, 858, 3328]\n",
      "21 [2761, 44199, 1172]\n",
      "22 [3451, 1198, 527]\n",
      "23 [527, 1673, 318]\n",
      "24 [1203, 750, 1196]\n",
      "25 [1196, 1197, 1704]\n",
      "26 [318, 898, 926]\n",
      "27 [3683, 750, 6618]\n",
      "28 [1291, 27773, 1283]\n",
      "29 [2959, 2571, 79132]\n",
      "30 [50, 1219, 1278]\n",
      "31 [318, 1704, 1259]\n",
      "32 [858, 1206, 1673]\n",
      "33 [1222, 1104, 1221]\n",
      "34 [527, 3535, 112852]\n",
      "35 [898, 527, 4973]\n",
      "36 [7361, 2959, 1204]\n",
      "37 [1213, 50, 1276]\n",
      "38 [3972, 1204, 1387]\n",
      "39 [68157, 1278, 1673]\n",
      "40 [1210, 898, 48516]\n",
      "41 [1276, 1261, 903]\n",
      "42 [720, 246, 2019]\n",
      "43 [50, 441, 527]\n",
      "44 [608, 2324, 1206]\n",
      "45 [1233, 2160, 1178]\n",
      "46 [930, 1213, 1104]\n",
      "47 [6807, 898, 1197]\n",
      "48 [2959, 318, 778]\n",
      "49 [898, 750, 1136]\n",
      "50 [1235, 1104, 1178]\n",
      "51 [110, 1213, 2571]\n",
      "52 [1222, 2329, 750]\n",
      "53 [47, 50, 223]\n",
      "54 [1204, 1266, 1276]\n",
      "55 [318, 2959, 2324]\n",
      "56 [1204, 2160, 1203]\n",
      "57 [4226, 318, 7153]\n",
      "58 [898, 2959, 4973]\n",
      "59 [296, 318, 898]\n",
      "60 [56782, 898, 2318]\n",
      "61 [858, 527, 296]\n",
      "62 [898, 1172, 3275]\n",
      "63 [1219, 4973, 904]\n",
      "64 [1262, 56782, 750]\n",
      "65 [1204, 750, 4011]\n",
      "66 [750, 4973, 1199]\n",
      "67 [1204, 1197, 142488]\n",
      "68 [1303, 1272, 2160]\n",
      "69 [1089, 1213, 2329]\n",
      "70 [50, 898, 750]\n",
      "71 [2571, 1704, 318]\n",
      "72 [1104, 750, 5618]\n",
      "73 [2959, 4993, 1235]\n",
      "74 [898, 750, 318]\n",
      "75 [898, 4019, 1197]\n",
      "76 [5995, 1210, 441]\n",
      "77 [318, 898, 858]\n",
      "78 [364, 903, 58559]\n",
      "79 [1208, 296, 1204]\n",
      "80 [1276, 92259, 898]\n",
      "81 [898, 1178, 109374]\n",
      "82 [142488, 933, 1204]\n",
      "83 [1104, 1265, 1089]\n",
      "84 [1673, 2160, 6016]\n",
      "85 [1197, 908, 1242]\n",
      "86 [898, 1198, 750]\n",
      "87 [1203, 5690, 1197]\n",
      "88 [1213, 1104, 5618]\n",
      "89 [5618, 2924, 926]\n",
      "90 [1203, 1288, 858]\n",
      "91 [720, 1252, 1178]\n",
      "92 [1203, 908, 318]\n",
      "93 [608, 1136, 1197]\n",
      "94 [1217, 750, 898]\n",
      "95 [527, 858, 318]\n",
      "96 [1234, 904, 750]\n",
      "97 [1197, 1204, 933]\n",
      "98 [50, 56367, 3275]\n",
      "99 [260, 904, 1204]\n",
      "100 [1104, 58559, 1673]\n",
      "101 [318, 1104, 904]\n",
      "102 [1276, 50, 1207]\n",
      "103 [2858, 1104, 1673]\n",
      "104 [953, 1719, 4642]\n",
      "105 [1104, 1249, 898]\n",
      "106 [2019, 5618, 1204]\n",
      "107 [48516, 142488, 2324]\n",
      "108 [1089, 5995, 1104]\n",
      "109 [2571, 898, 1203]\n",
      "110 [1204, 318, 7361]\n",
      "111 [57669, 4993, 1266]\n",
      "112 [1197, 6539, 858]\n",
      "113 [750, 4973, 1261]\n",
      "114 [898, 318, 44555]\n",
      "115 [1178, 50, 3275]\n",
      "116 [2571, 2565, 1210]\n",
      "117 [1104, 1262, 5618]\n",
      "118 [260, 1204, 750]\n",
      "119 [898, 1276, 2542]\n",
      "120 [527, 898, 1203]\n",
      "121 [2959, 4973, 1719]\n",
      "122 [110, 1258, 3147]\n",
      "123 [3147, 1235, 1204]\n",
      "124 [527, 1204, 858]\n",
      "125 [260, 142488, 1203]\n",
      "126 [908, 58559, 1237]\n",
      "127 [1673, 4993, 5690]\n",
      "128 [296, 1261, 527]\n",
      "129 [908, 912, 898]\n",
      "130 [898, 750, 1203]\n",
      "131 [898, 2959, 2324]\n",
      "132 [1261, 1104, 57669]\n",
      "133 [1704, 1172, 750]\n",
      "134 [318, 1276, 1197]\n",
      "135 [541, 4973, 778]\n",
      "136 [2571, 750, 5618]\n",
      "137 [1104, 58559, 89904]\n",
      "138 [1237, 750, 1258]\n",
      "139 [1210, 898, 1673]\n",
      "140 [142488, 1197, 1228]\n",
      "141 [1208, 5013, 1213]\n",
      "142 [1276, 318, 1219]\n",
      "143 [1104, 1035, 50]\n",
      "144 [142488, 1197, 1704]\n",
      "145 [898, 1276, 5618]\n",
      "146 [318, 898, 1172]\n",
      "147 [1204, 1104, 930]\n",
      "148 [318, 2329, 4973]\n",
      "149 [898, 89904, 1276]\n",
      "150 [1203, 318, 898]\n",
      "151 [898, 527, 2324]\n",
      "152 [898, 3275, 4993]\n",
      "153 [3681, 1148, 1225]\n",
      "154 [1197, 2329, 912]\n",
      "155 [296, 4848, 1276]\n",
      "156 [1104, 903, 58559]\n",
      "157 [356, 4878, 1204]\n",
      "158 [1203, 260, 1262]\n",
      "159 [527, 1250, 750]\n",
      "160 [3949, 902, 745]\n",
      "161 [2019, 62336, 908]\n",
      "162 [1210, 2019, 1204]\n",
      "163 [318, 1204, 356]\n",
      "164 [593, 318, 1276]\n",
      "165 [2959, 1276, 1204]\n",
      "166 [1204, 930, 1213]\n",
      "167 [1272, 44555, 1204]\n",
      "168 [898, 1673, 904]\n",
      "169 [898, 908, 1103]\n",
      "170 [1249, 750, 2692]\n",
      "171 [1617, 2959, 898]\n",
      "172 [1196, 898, 4011]\n",
      "173 [1719, 1276, 1204]\n",
      "174 [260, 1196, 1673]\n",
      "175 [898, 1198, 1237]\n",
      "176 [1204, 2571, 1222]\n",
      "177 [5690, 1204, 1266]\n",
      "178 [89904, 57669, 3275]\n",
      "179 [898, 3147, 2019]\n",
      "180 [1204, 3275, 318]\n",
      "181 [3147, 92535, 89904]\n",
      "182 [1230, 68157, 1266]\n",
      "183 [4973, 898, 1104]\n",
      "184 [2571, 1204, 260]\n",
      "185 [2571, 1198, 318]\n",
      "186 [1278, 6016, 1104]\n",
      "187 [4973, 720, 51255]\n",
      "188 [908, 318, 1104]\n",
      "189 [1203, 1172, 898]\n",
      "190 [1204, 1104, 898]\n",
      "191 [527, 2959, 858]\n",
      "192 [1148, 908, 912]\n",
      "193 [4993, 898, 1233]\n",
      "194 [1673, 778, 50]\n",
      "195 [1203, 2324, 1252]\n",
      "196 [1242, 57669, 1204]\n",
      "197 [4973, 1219, 1206]\n",
      "198 [910, 71899, 89904]\n",
      "199 [2019, 1221, 5690]\n",
      "200 [1261, 3275, 953]\n",
      "201 [527, 2571, 318]\n",
      "202 [3275, 7361, 1235]\n",
      "203 [1203, 1136, 1278]\n",
      "204 [3275, 1261, 1201]\n",
      "205 [1203, 1136, 1204]\n",
      "206 [1196, 318, 527]\n",
      "207 [527, 858, 296]\n",
      "208 [904, 1276, 1104]\n",
      "209 [2019, 1247, 858]\n",
      "210 [1203, 741, 56367]\n",
      "211 [1197, 1104, 112852]\n",
      "212 [1204, 1250, 1104]\n",
      "213 [318, 1719, 1104]\n",
      "214 [318, 1204, 50]\n",
      "215 [3275, 5618, 904]\n",
      "216 [750, 1217, 1228]\n",
      "217 [1203, 177593, 908]\n",
      "218 [1221, 5618, 898]\n",
      "219 [2019, 4973, 1249]\n",
      "220 [1203, 1250, 3451]\n",
      "221 [5618, 1230, 3949]\n",
      "222 [1204, 750, 1704]\n",
      "223 [356, 2959, 1203]\n",
      "224 [296, 7371, 2959]\n",
      "225 [1148, 318, 1719]\n",
      "226 [858, 1178, 112852]\n",
      "227 [1204, 2761, 1235]\n",
      "228 [1719, 1291, 1276]\n",
      "229 [1204, 1198, 750]\n",
      "230 [79132, 1272, 112852]\n",
      "231 [48516, 720, 904]\n",
      "232 [898, 112852, 4011]\n",
      "233 [260, 1196, 142488]\n",
      "234 [1228, 56782, 3468]\n",
      "235 [1198, 1276, 1250]\n",
      "236 [50, 356, 1178]\n",
      "237 [1673, 898, 4011]\n",
      "238 [1237, 1204, 1234]\n",
      "239 [308, 898, 750]\n",
      "240 [1197, 1704, 5418]\n",
      "241 [3147, 2019, 56782]\n",
      "242 [5618, 2324, 68157]\n",
      "243 [1278, 2761, 1079]\n",
      "244 [527, 246, 2019]\n",
      "245 [589, 2959, 1104]\n",
      "246 [1197, 898, 912]\n",
      "247 [924, 1104, 4967]\n",
      "248 [4973, 898, 2959]\n",
      "249 [1204, 898, 1283]\n",
      "250 [356, 898, 750]\n",
      "251 [1204, 1276, 1266]\n",
      "252 [1104, 1136, 1204]\n",
      "253 [318, 2959, 527]\n",
      "254 [1172, 1104, 3147]\n",
      "255 [1203, 1178, 356]\n",
      "256 [1673, 1213, 246]\n",
      "257 [912, 1237, 3424]\n",
      "258 [898, 1235, 2324]\n",
      "259 [1213, 1104, 5690]\n",
      "260 [930, 898, 1204]\n",
      "261 [1104, 2959, 4235]\n",
      "262 [750, 1276, 1204]\n",
      "263 [2959, 1104, 898]\n",
      "264 [750, 3683, 1283]\n",
      "265 [1197, 56782, 6539]\n",
      "266 [1219, 858, 3949]\n",
      "267 [318, 858, 1291]\n",
      "268 [296, 1214, 912]\n",
      "269 [3275, 3578, 1204]\n",
      "270 [1204, 750, 296]\n",
      "271 [1104, 58559, 1198]\n",
      "272 [1197, 1178, 1028]\n",
      "273 [903, 1204, 750]\n",
      "274 [1249, 898, 4973]\n",
      "275 [898, 2318, 3275]\n",
      "276 [1198, 1278, 1291]\n",
      "277 [898, 318, 1237]\n",
      "278 [2571, 898, 1242]\n",
      "279 [898, 1387, 1178]\n",
      "280 [1104, 898, 2959]\n",
      "281 [898, 296, 318]\n",
      "282 [7153, 1204, 1104]\n",
      "283 [1136, 750, 1172]\n",
      "284 [260, 1089, 1198]\n",
      "285 [593, 1673, 898]\n",
      "286 [898, 318, 2324]\n",
      "287 [1201, 720, 858]\n",
      "288 [50, 1221, 92259]\n",
      "289 [1203, 898, 1136]\n",
      "290 [1197, 44555, 3451]\n",
      "291 [6016, 1172, 1104]\n",
      "292 [1673, 2150, 5690]\n",
      "293 [1204, 1242, 1148]\n",
      "294 [1136, 720, 4878]\n",
      "295 [1258, 750, 7153]\n",
      "296 [750, 608, 1204]\n",
      "297 [2571, 318, 1284]\n",
      "298 [2028, 1080, 1233]\n",
      "299 [318, 1203, 1272]\n",
      "300 [5618, 1104, 3275]\n",
      "301 [2959, 750, 7147]\n",
      "302 [1719, 527, 1276]\n",
      "303 [318, 1204, 913]\n",
      "304 [56782, 105504, 1204]\n",
      "305 [5992, 2580, 898]\n",
      "306 [3275, 1278, 1203]\n",
      "307 [79132, 1200, 1276]\n",
      "308 [1172, 6711, 78499]\n",
      "309 [5618, 260, 910]\n",
      "310 [50, 1178, 1197]\n",
      "311 [58559, 1204, 5690]\n",
      "312 [898, 5995, 6807]\n",
      "313 [2360, 97921, 969]\n",
      "314 [608, 1089, 1198]\n",
      "315 [2324, 527, 898]\n",
      "316 [318, 50, 1104]\n",
      "317 [527, 1204, 914]\n",
      "318 [898, 1204, 5690]\n",
      "319 [3147, 1104, 1200]\n",
      "320 [4993, 50, 2019]\n",
      "321 [2324, 898, 1210]\n",
      "322 [1276, 105504, 56782]\n",
      "323 [1276, 1719, 1283]\n",
      "324 [1673, 1204, 1104]\n",
      "325 [1213, 750, 1221]\n",
      "326 [260, 912, 898]\n",
      "327 [1204, 1178, 5618]\n",
      "328 [6874, 1204, 898]\n",
      "329 [6377, 898, 3275]\n",
      "330 [5618, 1204, 933]\n",
      "331 [589, 541, 1214]\n",
      "332 [908, 1197, 1719]\n",
      "333 [318, 858, 1250]\n",
      "334 [1104, 1719, 898]\n",
      "335 [1213, 5690, 1136]\n",
      "336 [1178, 1196, 1213]\n",
      "337 [1089, 1198, 1278]\n",
      "338 [260, 2502, 1196]\n",
      "339 [1267, 1276, 1249]\n",
      "340 [898, 1196, 1203]\n",
      "341 [1210, 318, 1249]\n",
      "342 [260, 142488, 2324]\n",
      "343 [898, 8368, 1204]\n",
      "344 [1172, 898, 910]\n",
      "345 [4973, 1148, 741]\n",
      "346 [1104, 5971, 5690]\n",
      "347 [912, 1719, 908]\n",
      "348 [356, 1197, 1258]\n",
      "349 [1104, 318, 898]\n",
      "350 [930, 1197, 1172]\n",
      "351 [5618, 720, 1221]\n",
      "352 [912, 1197, 1221]\n",
      "353 [1247, 1204, 2019]\n",
      "354 [1719, 1104, 1276]\n",
      "355 [898, 2019, 527]\n",
      "356 [898, 1204, 296]\n",
      "357 [4226, 5618, 1673]\n",
      "358 [1104, 142488, 1197]\n",
      "359 [5618, 898, 142488]\n",
      "360 [318, 1203, 1210]\n",
      "361 [1719, 3347, 7099]\n",
      "362 [1204, 527, 7361]\n",
      "363 [527, 898, 356]\n",
      "364 [778, 3147, 1235]\n",
      "365 [2329, 97304, 1246]\n",
      "366 [5618, 750, 608]\n",
      "367 [1104, 2571, 1222]\n",
      "368 [1104, 1276, 1203]\n",
      "369 [4973, 898, 1204]\n",
      "370 [1203, 5690, 1276]\n",
      "371 [110, 356, 608]\n",
      "372 [56782, 2571, 1276]\n",
      "373 [2571, 1201, 1250]\n",
      "374 [1203, 858, 1196]\n",
      "375 [1178, 1204, 1197]\n",
      "376 [2329, 318, 1204]\n",
      "377 [930, 1204, 2329]\n",
      "378 [898, 750, 2924]\n",
      "379 [1276, 912, 930]\n",
      "380 [1172, 2858, 74458]\n",
      "381 [1172, 62336, 1262]\n",
      "382 [1276, 1235, 47]\n",
      "383 [2019, 750, 1204]\n",
      "384 [858, 527, 318]\n",
      "385 [58559, 7153, 527]\n",
      "386 [2959, 527, 1203]\n",
      "387 [7361, 527, 898]\n",
      "388 [4973, 1104, 953]\n",
      "389 [1196, 2329, 57669]\n",
      "390 [2324, 3424, 4011]\n",
      "391 [933, 1288, 246]\n",
      "392 [5618, 750, 318]\n",
      "393 [246, 1242, 168252]\n",
      "394 [318, 1204, 1235]\n",
      "395 [1249, 1278, 908]\n",
      "396 [2959, 1225, 68157]\n",
      "397 [1210, 5995, 1203]\n",
      "398 [750, 1204, 898]\n",
      "399 [318, 1197, 1148]\n",
      "400 [1278, 1104, 1245]\n",
      "401 [2329, 1204, 898]\n",
      "402 [318, 356, 4973]\n",
      "403 [318, 2959, 858]\n",
      "404 [930, 5618, 1719]\n",
      "405 [898, 142488, 904]\n",
      "406 [4011, 142488, 177593]\n",
      "407 [1197, 4306, 750]\n",
      "408 [1204, 1104, 1673]\n",
      "409 [8874, 933, 4973]\n",
      "410 [1104, 4993, 89492]\n",
      "411 [898, 475, 1276]\n",
      "412 [1196, 1270, 1203]\n",
      "413 [1220, 912, 2019]\n",
      "414 [74458, 1203, 1411]\n",
      "415 [1104, 142488, 898]\n",
      "416 [778, 1203, 720]\n",
      "417 [527, 912, 7361]\n",
      "418 [2019, 912, 1199]\n",
      "419 [1203, 27773, 1237]\n",
      "420 [1204, 2019, 1104]\n",
      "421 [858, 750, 1204]\n",
      "422 [2571, 1197, 1198]\n",
      "423 [1204, 1089, 1198]\n",
      "424 [898, 1178, 1276]\n",
      "425 [1237, 142488, 1276]\n",
      "426 [1246, 1222, 1272]\n",
      "427 [50, 720, 858]\n",
      "428 [50, 1104, 318]\n",
      "429 [260, 356, 1262]\n",
      "430 [750, 720, 898]\n",
      "431 [527, 750, 4973]\n",
      "432 [1276, 1178, 1172]\n",
      "433 [1104, 1242, 1278]\n",
      "434 [50, 720, 1221]\n",
      "435 [2571, 527, 1704]\n",
      "436 [898, 1204, 1208]\n",
      "437 [2571, 2959, 142488]\n",
      "438 [1198, 1258, 750]\n",
      "439 [1204, 1203, 296]\n",
      "440 [1104, 2959, 904]\n",
      "441 [1197, 2329, 2542]\n",
      "442 [5618, 750, 142488]\n",
      "443 [2019, 50, 1210]\n",
      "444 [898, 1197, 858]\n",
      "445 [3424, 1221, 1104]\n",
      "446 [858, 898, 1104]\n",
      "447 [903, 1148, 2019]\n",
      "448 [1204, 56782, 527]\n",
      "449 [2571, 1104, 1276]\n",
      "450 [898, 1104, 6016]\n",
      "451 [296, 2959, 1219]\n",
      "452 [50, 593, 1256]\n",
      "453 [3451, 112852, 904]\n",
      "454 [4973, 142488, 3275]\n",
      "455 [1204, 1136, 2324]\n",
      "456 [908, 1221, 1228]\n",
      "457 [5618, 50, 1278]\n",
      "458 [1276, 912, 2324]\n",
      "459 [898, 750, 1104]\n",
      "460 [1204, 1276, 5618]\n",
      "461 [1235, 4848, 1261]\n",
      "462 [2761, 914, 56782]\n",
      "463 [1204, 2959, 318]\n",
      "464 [68157, 898, 1203]\n",
      "465 [898, 296, 2324]\n",
      "466 [898, 1104, 1719]\n",
      "467 [5618, 858, 912]\n",
      "468 [904, 527, 2571]\n",
      "469 [1245, 866, 4848]\n",
      "470 [778, 1203, 1204]\n",
      "471 [1104, 318, 68954]\n",
      "472 [1104, 2571, 1673]\n",
      "473 [1198, 1104, 1204]\n",
      "474 [56367, 92259, 56782]\n",
      "475 [593, 1213, 1278]\n",
      "476 [1104, 50, 930]\n",
      "477 [50, 5995, 1178]\n",
      "478 [1204, 527, 318]\n",
      "479 [608, 527, 4973]\n",
      "480 [750, 924, 68157]\n",
      "481 [1104, 750, 1242]\n",
      "482 [750, 904, 593]\n",
      "483 [177593, 55118, 1222]\n",
      "484 [3451, 1234, 4967]\n",
      "485 [318, 4973, 1291]\n",
      "486 [1197, 898, 908]\n",
      "487 [1204, 1262, 1261]\n",
      "488 [296, 750, 1235]\n",
      "489 [1199, 168252, 3783]\n",
      "490 [5618, 924, 1258]\n",
      "491 [1104, 904, 1673]\n",
      "492 [1204, 908, 1673]\n",
      "493 [50, 318, 1283]\n",
      "494 [2959, 1104, 142488]\n",
      "495 [1196, 1197, 1203]\n",
      "496 [318, 260, 898]\n",
      "497 [1267, 89904, 4306]\n",
      "498 [50, 1204, 930]\n",
      "499 [50, 2318, 4973]\n",
      "500 [741, 1203, 58559]\n",
      "501 [898, 908, 1197]\n",
      "502 [898, 296, 1199]\n",
      "503 [50, 260, 1270]\n",
      "504 [1204, 56782, 318]\n",
      "505 [293, 1203, 3275]\n",
      "506 [296, 527, 858]\n",
      "507 [898, 1210, 750]\n",
      "508 [318, 1204, 1178]\n",
      "509 [858, 50, 1230]\n",
      "510 [1201, 2019, 1272]\n",
      "511 [3275, 50, 260]\n",
      "512 [5618, 1276, 858]\n",
      "513 [1276, 1204, 142488]\n",
      "514 [914, 1172, 1719]\n",
      "515 [296, 1089, 1197]\n",
      "516 [858, 7153, 4993]\n",
      "517 [47610, 1103, 2542]\n",
      "518 [750, 1213, 7361]\n",
      "519 [527, 1276, 2019]\n",
      "520 [5690, 2329, 898]\n",
      "521 [318, 904, 912]\n",
      "522 [1204, 4973, 2761]\n",
      "523 [50, 260, 457]\n",
      "524 [4878, 7438, 1719]\n",
      "525 [912, 541, 1104]\n",
      "526 [50, 1673, 260]\n",
      "527 [2324, 1249, 3451]\n",
      "528 [4993, 1172, 142488]\n",
      "529 [296, 1204, 908]\n",
      "530 [1204, 260, 1197]\n",
      "531 [2571, 912, 1148]\n",
      "532 [898, 1276, 260]\n",
      "533 [318, 720, 904]\n",
      "534 [56782, 898, 110]\n",
      "535 [3275, 7361, 296]\n",
      "536 [1204, 1197, 76093]\n",
      "537 [1242, 3275, 1237]\n",
      "538 [1196, 527, 741]\n",
      "539 [1235, 81834, 2542]\n",
      "540 [50, 1203, 1148]\n",
      "541 [2318, 912, 1719]\n",
      "542 [91529, 58559, 1303]\n",
      "543 [50, 260, 296]\n",
      "544 [110, 260, 296]\n",
      "545 [356, 318, 930]\n",
      "546 [296, 898, 750]\n",
      "547 [1203, 1198, 593]\n",
      "548 [898, 750, 3275]\n",
      "549 [2324, 1104, 1719]\n",
      "550 [914, 2324, 1719]\n",
      "551 [1104, 1272, 1884]\n",
      "552 [6874, 858, 1221]\n",
      "553 [898, 1104, 1272]\n",
      "554 [318, 50, 260]\n",
      "555 [5690, 912, 81845]\n",
      "556 [2028, 778, 177593]\n",
      "557 [5690, 926, 58559]\n",
      "558 [1203, 3424, 1204]\n",
      "559 [1196, 4993, 3578]\n",
      "560 [56782, 1204, 1203]\n",
      "561 [858, 177593, 5618]\n",
      "562 [1204, 1250, 1673]\n",
      "563 [318, 1204, 1104]\n",
      "564 [1213, 898, 56782]\n",
      "565 [930, 898, 1261]\n",
      "566 [68157, 89904, 1089]\n",
      "567 [2959, 2571, 2858]\n",
      "568 [527, 318, 1204]\n",
      "569 [142488, 1250, 912]\n",
      "570 [2019, 1203, 2324]\n",
      "571 [912, 1178, 1208]\n",
      "572 [4993, 1203, 1213]\n",
      "573 [3703, 168252, 908]\n",
      "574 [3147, 246, 2571]\n",
      "575 [142488, 260, 1261]\n",
      "576 [318, 898, 1719]\n",
      "577 [1204, 898, 1104]\n",
      "578 [1203, 898, 2019]\n",
      "579 [1104, 908, 1673]\n",
      "580 [1278, 112552, 933]\n",
      "581 [898, 858, 778]\n",
      "582 [858, 1203, 1197]\n",
      "583 [5618, 1104, 1704]\n",
      "584 [898, 1104, 2542]\n",
      "585 [318, 2324, 1276]\n",
      "586 [1197, 2761, 1259]\n",
      "587 [4011, 47, 527]\n",
      "588 [1204, 1213, 930]\n",
      "589 [2571, 1198, 898]\n",
      "590 [5618, 741, 2019]\n",
      "591 [1198, 904, 1673]\n",
      "592 [2571, 79132, 260]\n",
      "593 [1208, 1266, 68157]\n",
      "594 [1222, 1278, 898]\n",
      "595 [318, 1178, 1235]\n",
      "596 [1276, 1266, 1204]\n",
      "597 [527, 608, 5618]\n",
      "598 [3275, 1237, 912]\n",
      "599 [1234, 1203, 1262]\n",
      "600 [1204, 68157, 64614]\n",
      "601 [1204, 1276, 1178]\n",
      "602 [2571, 3275, 1204]\n",
      "603 [8949, 50, 3266]\n",
      "604 [898, 1204, 1210]\n",
      "605 [2571, 1148, 318]\n",
      "606 [608, 68157, 1261]\n",
      "607 [1104, 1200, 898]\n",
      "608 [4144, 913, 933]\n",
      "609 [1204, 1203, 1104]\n",
      "610 [1203, 29, 1288]\n"
     ]
    }
   ],
   "source": [
    "from collections import defaultdict\n",
    "\n",
    "def get_top_n(predictions,n):\n",
    "    top_n=defaultdict(list)\n",
    "    for uid,iid,_,est,_ in predictions:\n",
    "        top_n[uid].append((iid,est))\n",
    "    for uid,user_ratings in top_n.items():\n",
    "        user_ratings.sort(key=lambda x : x[1],reverse=True)\n",
    "        top_n[uid] = user_ratings[:n]\n",
    "    return top_n\n",
    "\n",
    "top_n = get_top_n(predictions,n=3)\n",
    "\n",
    "for uid, user_ratings in top_n.items():\n",
    "    print(uid, [iid for (iid,rating) in user_ratings])"
   ]
  },
  {
   "cell_type": "code",
   "execution_count": null,
   "metadata": {},
   "outputs": [],
   "source": []
  }
 ],
 "metadata": {
  "colab": {
   "collapsed_sections": [],
   "name": "Movies Recommendation Engine - Coursera [Starter]",
   "provenance": [],
   "toc_visible": true
  },
  "kernelspec": {
   "display_name": "Python 3",
   "language": "python",
   "name": "python3"
  },
  "language_info": {
   "codemirror_mode": {
    "name": "ipython",
    "version": 3
   },
   "file_extension": ".py",
   "mimetype": "text/x-python",
   "name": "python",
   "nbconvert_exporter": "python",
   "pygments_lexer": "ipython3",
   "version": "3.6.9"
  }
 },
 "nbformat": 4,
 "nbformat_minor": 4
}
